{
  "nbformat": 4,
  "nbformat_minor": 0,
  "metadata": {
    "colab": {
      "name": "Cat_VS_Dog",
      "provenance": [],
      "collapsed_sections": []
    },
    "kernelspec": {
      "name": "python3",
      "display_name": "Python 3"
    }
  },
  "cells": [
    {
      "cell_type": "code",
      "metadata": {
        "id": "C3VZmVrv56Bs",
        "colab_type": "code",
        "colab": {}
      },
      "source": [
        "import os\n",
        "from keras.models import Sequential, load_model\n",
        "from keras.layers import Conv2D, MaxPool2D, Flatten, Dense\n",
        "from keras.preprocessing.image import ImageDataGenerator, image\n",
        "import numpy as np\n",
        "\n",
        "## For compile\n",
        "from keras.optimizers import Adam\n",
        "from keras.losses import categorical_crossentropy\n",
        "\n",
        "## Show history\n",
        "from matplotlib import pyplot as plt\n"
      ],
      "execution_count": 0,
      "outputs": []
    },
    {
      "cell_type": "markdown",
      "metadata": {
        "id": "aeGpmftx8FL2",
        "colab_type": "text"
      },
      "source": [
        "## Data Augmentation\n"
      ]
    },
    {
      "cell_type": "code",
      "metadata": {
        "id": "Yu2hOEFOElf_",
        "colab_type": "code",
        "outputId": "4f0279f4-36ca-47dc-8fe4-8a60190a7d9d",
        "colab": {
          "base_uri": "https://localhost:8080/",
          "height": 204
        }
      },
      "source": [
        "!wget --no-check-certificate \\\n",
        "  https://storage.googleapis.com/mledu-datasets/cats_and_dogs_filtered.zip \\\n",
        "  -O cats_and_dogs_filtered.zip"
      ],
      "execution_count": 0,
      "outputs": [
        {
          "output_type": "stream",
          "text": [
            "--2020-01-11 04:23:15--  https://storage.googleapis.com/mledu-datasets/cats_and_dogs_filtered.zip\n",
            "Resolving storage.googleapis.com (storage.googleapis.com)... 74.125.142.128, 2607:f8b0:400e:c08::80\n",
            "Connecting to storage.googleapis.com (storage.googleapis.com)|74.125.142.128|:443... connected.\n",
            "HTTP request sent, awaiting response... 200 OK\n",
            "Length: 68606236 (65M) [application/zip]\n",
            "Saving to: ‘cats_and_dogs_filtered.zip’\n",
            "\n",
            "\r          cats_and_   0%[                    ]       0  --.-KB/s               \r         cats_and_d  44%[=======>            ]  29.12M   146MB/s               \r        cats_and_do  95%[==================> ]  62.51M   156MB/s               \rcats_and_dogs_filte 100%[===================>]  65.43M   161MB/s    in 0.4s    \n",
            "\n",
            "2020-01-11 04:23:16 (161 MB/s) - ‘cats_and_dogs_filtered.zip’ saved [68606236/68606236]\n",
            "\n"
          ],
          "name": "stdout"
        }
      ]
    },
    {
      "cell_type": "code",
      "metadata": {
        "id": "CfJ-xXxTwueV",
        "colab_type": "code",
        "colab": {}
      },
      "source": [
        "# ! unzip cats_and_dogs_filtered.zip"
      ],
      "execution_count": 0,
      "outputs": []
    },
    {
      "cell_type": "code",
      "metadata": {
        "id": "l5zGMXYH9CN6",
        "colab_type": "code",
        "outputId": "89a6a642-42f2-4e6c-ff8c-c42a257d956f",
        "colab": {
          "base_uri": "https://localhost:8080/",
          "height": 51
        }
      },
      "source": [
        "trdata = ImageDataGenerator()\n",
        "traindata = trdata.flow_from_directory(directory = 'cats_and_dogs_filtered/train', target_size = (224, 224))\n",
        "\n",
        "tsdata = ImageDataGenerator()\n",
        "testdata = tsdata.flow_from_directory(directory = 'cats_and_dogs_filtered/validation', target_size = (224, 224))"
      ],
      "execution_count": 0,
      "outputs": [
        {
          "output_type": "stream",
          "text": [
            "Found 2000 images belonging to 2 classes.\n",
            "Found 1000 images belonging to 2 classes.\n"
          ],
          "name": "stdout"
        }
      ]
    },
    {
      "cell_type": "markdown",
      "metadata": {
        "id": "vpj-SzT_-CXH",
        "colab_type": "text"
      },
      "source": [
        "## Build Model\n"
      ]
    },
    {
      "cell_type": "code",
      "metadata": {
        "id": "v4wKoyyr2ZCG",
        "colab_type": "code",
        "colab": {}
      },
      "source": [
        "\n",
        "model = Sequential()"
      ],
      "execution_count": 0,
      "outputs": []
    },
    {
      "cell_type": "code",
      "metadata": {
        "id": "67GIDFT7-GwD",
        "colab_type": "code",
        "colab": {}
      },
      "source": [
        "model = Sequential()\n",
        "\n",
        "# 1 & 2 CNN layers\n",
        "model.add(Conv2D(input_shape = (224,224,3), filters = 64, kernel_size = (3,3), padding=\"same\", activation='relu'))\n",
        "model.add(Conv2D(filters = 64, kernel_size = (3,3), padding = \"same\", activation = \"relu\"))\n",
        "\n",
        "model.add(MaxPool2D(pool_size = (2,2), strides = 2))\n",
        "\n",
        "# 3 & 4 CNN layers\n",
        "model.add(Conv2D(128, kernel_size = (3,3), padding = \"same\", activation=\"relu\"))\n",
        "model.add(Conv2D(128, kernel_size = (3,3), padding = \"same\", activation=\"relu\"))\n",
        "\n",
        "model.add(MaxPool2D(pool_size=(2,2), strides=2))\n",
        "\n",
        "# 5, 6 & 7 CNN layers\n",
        "model.add(Conv2D(256, kernel_size=(3,3), padding=\"same\", activation=\"relu\"))\n",
        "model.add(Conv2D(256, kernel_size=(3,3), padding=\"same\", activation=\"relu\"))\n",
        "model.add(Conv2D(256, kernel_size=(3,3), padding=\"same\", activation=\"relu\"))\n",
        "\n",
        "model.add(MaxPool2D(pool_size=(2,2), strides=2))\n",
        "\n",
        "# 8, 9, & 10 CNN layers\n",
        "model.add(Conv2D(512, kernel_size=(3,3), padding=\"same\", activation=\"relu\"))\n",
        "model.add(Conv2D(512, kernel_size=(3,3), padding=\"same\", activation=\"relu\"))\n",
        "model.add(Conv2D(512, kernel_size=(3,3), padding=\"same\", activation=\"relu\"))\n",
        "\n",
        "model.add(MaxPool2D(pool_size=(2,2), strides=2))\n",
        "\n",
        "# 11, 12 & 13 CNN Layers\n",
        "model.add(Conv2D(512, kernel_size=(3,3), padding=\"same\", activation=\"relu\"))\n",
        "model.add(Conv2D(512, kernel_size=(3,3), padding=\"same\", activation=\"relu\"))\n",
        "model.add(Conv2D(512, kernel_size=(3,3), padding=\"same\", activation=\"relu\"))\n",
        "\n",
        "model.add(MaxPool2D(pool_size=(2,2), strides=2))\n",
        "\n",
        "# 14, 15 & 16 CNN layers\n",
        "model.add(Flatten())\n",
        "model.add(Dense(units=4096, activation=\"relu\"))\n",
        "model.add(Dense(units=4096, activation=\"relu\"))\n",
        "\n",
        "# output layer\n",
        "model.add(Dense(units=2, activation=\"softmax\"))"
      ],
      "execution_count": 0,
      "outputs": []
    },
    {
      "cell_type": "markdown",
      "metadata": {
        "id": "jderpsZEHP_6",
        "colab_type": "text"
      },
      "source": [
        "## Compile model and fit the data\n"
      ]
    },
    {
      "cell_type": "code",
      "metadata": {
        "id": "9US2eq4OHYN8",
        "colab_type": "code",
        "outputId": "e506b101-b5c9-43b9-eb53-91469cb78b97",
        "colab": {
          "base_uri": "https://localhost:8080/",
          "height": 71
        }
      },
      "source": [
        "adam = Adam(lr=0.001)\n",
        "\n",
        "model.compile(optimizer=adam, loss = categorical_crossentropy, metrics=['accuracy'])"
      ],
      "execution_count": 0,
      "outputs": [
        {
          "output_type": "stream",
          "text": [
            "WARNING:tensorflow:From /usr/local/lib/python3.6/dist-packages/keras/backend/tensorflow_backend.py:3576: The name tf.log is deprecated. Please use tf.math.log instead.\n",
            "\n"
          ],
          "name": "stdout"
        }
      ]
    },
    {
      "cell_type": "markdown",
      "metadata": {
        "id": "A1F4ijujMG3k",
        "colab_type": "text"
      },
      "source": [
        "### Callback methods\n",
        "\n"
      ]
    },
    {
      "cell_type": "code",
      "metadata": {
        "id": "natKnVPQMMGH",
        "colab_type": "code",
        "colab": {}
      },
      "source": [
        "from keras.callbacks import ModelCheckpoint, EarlyStopping\n",
        "\n",
        "checkpoint = ModelCheckpoint(\"catvsdog.h5\", monitor='val_acc', save_best_only=True, save_weights_only=False, mode = 'auto', period=1)\n",
        "\n",
        "early = EarlyStopping(monitor='val_acc', min_delta=0, patience=20, mode='auto',)\n"
      ],
      "execution_count": 0,
      "outputs": []
    },
    {
      "cell_type": "code",
      "metadata": {
        "id": "Qo5tVGp6OUxG",
        "colab_type": "code",
        "outputId": "12307e17-01a4-479c-905b-3005673e5a50",
        "colab": {
          "base_uri": "https://localhost:8080/",
          "height": 241
        }
      },
      "source": [
        "hist = model.fit_generator(steps_per_epoch=100, generator=traindata, validation_data=testdata, validation_steps=10, epochs=100, \n",
        "                           callbacks=[checkpoint, early])"
      ],
      "execution_count": 0,
      "outputs": [
        {
          "output_type": "stream",
          "text": [
            "Epoch 1/100\n",
            "WARNING:tensorflow:From /usr/local/lib/python3.6/dist-packages/keras/backend/tensorflow_backend.py:190: The name tf.get_default_session is deprecated. Please use tf.compat.v1.get_default_session instead.\n",
            "\n",
            "WARNING:tensorflow:From /usr/local/lib/python3.6/dist-packages/keras/backend/tensorflow_backend.py:197: The name tf.ConfigProto is deprecated. Please use tf.compat.v1.ConfigProto instead.\n",
            "\n",
            "WARNING:tensorflow:From /usr/local/lib/python3.6/dist-packages/keras/backend/tensorflow_backend.py:207: The name tf.global_variables is deprecated. Please use tf.compat.v1.global_variables instead.\n",
            "\n",
            "WARNING:tensorflow:From /usr/local/lib/python3.6/dist-packages/keras/backend/tensorflow_backend.py:216: The name tf.is_variable_initialized is deprecated. Please use tf.compat.v1.is_variable_initialized instead.\n",
            "\n",
            "WARNING:tensorflow:From /usr/local/lib/python3.6/dist-packages/keras/backend/tensorflow_backend.py:223: The name tf.variables_initializer is deprecated. Please use tf.compat.v1.variables_initializer instead.\n",
            "\n",
            " 88/100 [=========================>....] - ETA: 11:56 - loss: 7.9523 - acc: 0.5018"
          ],
          "name": "stdout"
        }
      ]
    },
    {
      "cell_type": "markdown",
      "metadata": {
        "id": "qsBOq4F8Dqz3",
        "colab_type": "text"
      },
      "source": [
        "## Model Evaluate"
      ]
    },
    {
      "cell_type": "code",
      "metadata": {
        "id": "VkxFVWobs8ly",
        "colab_type": "code",
        "colab": {}
      },
      "source": [
        "\n",
        "\n",
        "plt.plot(hist.history[\"acc\"])\n",
        "plt.plot(hist.history[\"val_acc\"])\n",
        "plt.plot(hist.history[\"loss\"])\n",
        "plt.plot(hist.history[\"val_loss\"])\n",
        "plt.title(\"Model Accuracy\")\n",
        "plt.ylabel(\"Accuracy\")\n",
        "plt.xlabel(\"Epoch\")\n",
        "plt.legend([\"Accuracy\",\"Validation Accuracy\",\"Loss\",\"Validation Loss\"])\n",
        "plt.show()"
      ],
      "execution_count": 0,
      "outputs": []
    },
    {
      "cell_type": "markdown",
      "metadata": {
        "id": "i338JRMfs-jj",
        "colab_type": "text"
      },
      "source": [
        "## Prediction"
      ]
    },
    {
      "cell_type": "code",
      "metadata": {
        "id": "V_JD1uhptDvd",
        "colab_type": "code",
        "colab": {}
      },
      "source": [
        "## Load the test image\n",
        "\n",
        "img = image.load_img(\"test.jpeg\",target_size=(224,224))\n",
        "img = np.asarray(img)\n",
        "plt.imshow(img)\n",
        "img = np.expand_dims(img, axis=0)\n",
        "\n",
        "## load saved model\n",
        "\n",
        "model = load_model(\"catvsdog.h5\")\n",
        "prediction = model.predict(img)\n",
        "\n",
        "if prediction[0][0] > prediction[0][1]:\n",
        "  print(\"Cat\")\n",
        "else:\n",
        "  print(\"Dog\")"
      ],
      "execution_count": 0,
      "outputs": []
    }
  ]
}